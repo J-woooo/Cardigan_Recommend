{
 "cells": [
  {
   "cell_type": "code",
   "execution_count": 2,
   "metadata": {},
   "outputs": [],
   "source": [
    "import numpy as np\n",
    "import pandas as pd"
   ]
  },
  {
   "cell_type": "markdown",
   "metadata": {},
   "source": [
    "### Data PreProcessing"
   ]
  },
  {
   "cell_type": "code",
   "execution_count": 3,
   "metadata": {},
   "outputs": [
    {
     "data": {
      "text/html": [
       "<div>\n",
       "<style scoped>\n",
       "    .dataframe tbody tr th:only-of-type {\n",
       "        vertical-align: middle;\n",
       "    }\n",
       "\n",
       "    .dataframe tbody tr th {\n",
       "        vertical-align: top;\n",
       "    }\n",
       "\n",
       "    .dataframe thead th {\n",
       "        text-align: right;\n",
       "    }\n",
       "</style>\n",
       "<table border=\"1\" class=\"dataframe\">\n",
       "  <thead>\n",
       "    <tr style=\"text-align: right;\">\n",
       "      <th></th>\n",
       "      <th>Code</th>\n",
       "      <th>Price</th>\n",
       "      <th>Rate</th>\n",
       "      <th>Size</th>\n",
       "      <th>Brightness</th>\n",
       "      <th>Color</th>\n",
       "      <th>Thickness</th>\n",
       "      <th>Tacktile</th>\n",
       "    </tr>\n",
       "  </thead>\n",
       "  <tbody>\n",
       "    <tr>\n",
       "      <th>count</th>\n",
       "      <td>3.570000e+02</td>\n",
       "      <td>357.000000</td>\n",
       "      <td>357.000000</td>\n",
       "      <td>357.000000</td>\n",
       "      <td>357.000000</td>\n",
       "      <td>357.000000</td>\n",
       "      <td>357.000000</td>\n",
       "      <td>357.000000</td>\n",
       "    </tr>\n",
       "    <tr>\n",
       "      <th>mean</th>\n",
       "      <td>1.134513e+06</td>\n",
       "      <td>73857.422969</td>\n",
       "      <td>92.904818</td>\n",
       "      <td>55.581232</td>\n",
       "      <td>48.742297</td>\n",
       "      <td>60.715686</td>\n",
       "      <td>53.177871</td>\n",
       "      <td>58.915966</td>\n",
       "    </tr>\n",
       "    <tr>\n",
       "      <th>std</th>\n",
       "      <td>2.393550e+05</td>\n",
       "      <td>35177.828853</td>\n",
       "      <td>2.985391</td>\n",
       "      <td>19.722345</td>\n",
       "      <td>14.878704</td>\n",
       "      <td>17.945641</td>\n",
       "      <td>23.555454</td>\n",
       "      <td>22.626578</td>\n",
       "    </tr>\n",
       "    <tr>\n",
       "      <th>min</th>\n",
       "      <td>1.292670e+05</td>\n",
       "      <td>29000.000000</td>\n",
       "      <td>76.240000</td>\n",
       "      <td>0.000000</td>\n",
       "      <td>0.000000</td>\n",
       "      <td>0.000000</td>\n",
       "      <td>0.000000</td>\n",
       "      <td>0.000000</td>\n",
       "    </tr>\n",
       "    <tr>\n",
       "      <th>25%</th>\n",
       "      <td>1.024871e+06</td>\n",
       "      <td>52000.000000</td>\n",
       "      <td>91.680000</td>\n",
       "      <td>50.000000</td>\n",
       "      <td>46.500000</td>\n",
       "      <td>57.000000</td>\n",
       "      <td>44.500000</td>\n",
       "      <td>50.000000</td>\n",
       "    </tr>\n",
       "    <tr>\n",
       "      <th>50%</th>\n",
       "      <td>1.149214e+06</td>\n",
       "      <td>65000.000000</td>\n",
       "      <td>93.040000</td>\n",
       "      <td>57.000000</td>\n",
       "      <td>50.000000</td>\n",
       "      <td>62.000000</td>\n",
       "      <td>52.000000</td>\n",
       "      <td>62.500000</td>\n",
       "    </tr>\n",
       "    <tr>\n",
       "      <th>75%</th>\n",
       "      <td>1.305381e+06</td>\n",
       "      <td>89000.000000</td>\n",
       "      <td>94.600000</td>\n",
       "      <td>65.000000</td>\n",
       "      <td>54.500000</td>\n",
       "      <td>70.000000</td>\n",
       "      <td>69.000000</td>\n",
       "      <td>73.500000</td>\n",
       "    </tr>\n",
       "    <tr>\n",
       "      <th>max</th>\n",
       "      <td>1.497800e+06</td>\n",
       "      <td>320000.000000</td>\n",
       "      <td>100.000000</td>\n",
       "      <td>100.000000</td>\n",
       "      <td>100.000000</td>\n",
       "      <td>100.000000</td>\n",
       "      <td>100.000000</td>\n",
       "      <td>100.000000</td>\n",
       "    </tr>\n",
       "  </tbody>\n",
       "</table>\n",
       "</div>"
      ],
      "text/plain": [
       "               Code          Price        Rate        Size  Brightness  \\\n",
       "count  3.570000e+02     357.000000  357.000000  357.000000  357.000000   \n",
       "mean   1.134513e+06   73857.422969   92.904818   55.581232   48.742297   \n",
       "std    2.393550e+05   35177.828853    2.985391   19.722345   14.878704   \n",
       "min    1.292670e+05   29000.000000   76.240000    0.000000    0.000000   \n",
       "25%    1.024871e+06   52000.000000   91.680000   50.000000   46.500000   \n",
       "50%    1.149214e+06   65000.000000   93.040000   57.000000   50.000000   \n",
       "75%    1.305381e+06   89000.000000   94.600000   65.000000   54.500000   \n",
       "max    1.497800e+06  320000.000000  100.000000  100.000000  100.000000   \n",
       "\n",
       "            Color   Thickness    Tacktile  \n",
       "count  357.000000  357.000000  357.000000  \n",
       "mean    60.715686   53.177871   58.915966  \n",
       "std     17.945641   23.555454   22.626578  \n",
       "min      0.000000    0.000000    0.000000  \n",
       "25%     57.000000   44.500000   50.000000  \n",
       "50%     62.000000   52.000000   62.500000  \n",
       "75%     70.000000   69.000000   73.500000  \n",
       "max    100.000000  100.000000  100.000000  "
      ]
     },
     "execution_count": 3,
     "metadata": {},
     "output_type": "execute_result"
    }
   ],
   "source": [
    "df = pd.read_csv(\"total_cloth.csv\", encoding='cp949')\n",
    "df.describe()"
   ]
  },
  {
   "cell_type": "code",
   "execution_count": 4,
   "metadata": {},
   "outputs": [],
   "source": [
    "df = df[df.Size != 0]\n",
    "df = df[df.Brightness != 0]\n",
    "df = df[df.Color != 0]\n",
    "df = df[df.Thickness != 0]\n",
    "df = df[df.Tacktile != 0]\n",
    "df = df"
   ]
  },
  {
   "cell_type": "code",
   "execution_count": 5,
   "metadata": {},
   "outputs": [
    {
     "data": {
      "text/html": [
       "<div>\n",
       "<style scoped>\n",
       "    .dataframe tbody tr th:only-of-type {\n",
       "        vertical-align: middle;\n",
       "    }\n",
       "\n",
       "    .dataframe tbody tr th {\n",
       "        vertical-align: top;\n",
       "    }\n",
       "\n",
       "    .dataframe thead th {\n",
       "        text-align: right;\n",
       "    }\n",
       "</style>\n",
       "<table border=\"1\" class=\"dataframe\">\n",
       "  <thead>\n",
       "    <tr style=\"text-align: right;\">\n",
       "      <th></th>\n",
       "      <th>Price</th>\n",
       "      <th>Rate</th>\n",
       "      <th>Size</th>\n",
       "      <th>Brightness</th>\n",
       "      <th>Color</th>\n",
       "      <th>Thickness</th>\n",
       "      <th>Tacktile</th>\n",
       "    </tr>\n",
       "  </thead>\n",
       "  <tbody>\n",
       "    <tr>\n",
       "      <th>0</th>\n",
       "      <td>139000</td>\n",
       "      <td>92.28</td>\n",
       "      <td>75.5</td>\n",
       "      <td>46.0</td>\n",
       "      <td>59.5</td>\n",
       "      <td>81.0</td>\n",
       "      <td>47.5</td>\n",
       "    </tr>\n",
       "    <tr>\n",
       "      <th>1</th>\n",
       "      <td>45000</td>\n",
       "      <td>92.22</td>\n",
       "      <td>59.0</td>\n",
       "      <td>50.5</td>\n",
       "      <td>61.5</td>\n",
       "      <td>52.5</td>\n",
       "      <td>64.0</td>\n",
       "    </tr>\n",
       "    <tr>\n",
       "      <th>2</th>\n",
       "      <td>84900</td>\n",
       "      <td>96.06</td>\n",
       "      <td>56.0</td>\n",
       "      <td>53.5</td>\n",
       "      <td>60.5</td>\n",
       "      <td>51.5</td>\n",
       "      <td>77.5</td>\n",
       "    </tr>\n",
       "    <tr>\n",
       "      <th>3</th>\n",
       "      <td>45000</td>\n",
       "      <td>92.22</td>\n",
       "      <td>59.0</td>\n",
       "      <td>50.5</td>\n",
       "      <td>61.5</td>\n",
       "      <td>52.5</td>\n",
       "      <td>64.0</td>\n",
       "    </tr>\n",
       "    <tr>\n",
       "      <th>4</th>\n",
       "      <td>62000</td>\n",
       "      <td>91.68</td>\n",
       "      <td>64.5</td>\n",
       "      <td>51.0</td>\n",
       "      <td>71.0</td>\n",
       "      <td>70.5</td>\n",
       "      <td>72.5</td>\n",
       "    </tr>\n",
       "    <tr>\n",
       "      <th>...</th>\n",
       "      <td>...</td>\n",
       "      <td>...</td>\n",
       "      <td>...</td>\n",
       "      <td>...</td>\n",
       "      <td>...</td>\n",
       "      <td>...</td>\n",
       "      <td>...</td>\n",
       "    </tr>\n",
       "    <tr>\n",
       "      <th>351</th>\n",
       "      <td>87000</td>\n",
       "      <td>93.00</td>\n",
       "      <td>100.0</td>\n",
       "      <td>50.0</td>\n",
       "      <td>50.0</td>\n",
       "      <td>100.0</td>\n",
       "      <td>50.0</td>\n",
       "    </tr>\n",
       "    <tr>\n",
       "      <th>352</th>\n",
       "      <td>98000</td>\n",
       "      <td>94.00</td>\n",
       "      <td>75.0</td>\n",
       "      <td>75.0</td>\n",
       "      <td>75.0</td>\n",
       "      <td>100.0</td>\n",
       "      <td>87.5</td>\n",
       "    </tr>\n",
       "    <tr>\n",
       "      <th>353</th>\n",
       "      <td>79000</td>\n",
       "      <td>94.00</td>\n",
       "      <td>75.0</td>\n",
       "      <td>50.0</td>\n",
       "      <td>75.0</td>\n",
       "      <td>50.0</td>\n",
       "      <td>50.0</td>\n",
       "    </tr>\n",
       "    <tr>\n",
       "      <th>355</th>\n",
       "      <td>44000</td>\n",
       "      <td>86.00</td>\n",
       "      <td>57.0</td>\n",
       "      <td>35.5</td>\n",
       "      <td>71.5</td>\n",
       "      <td>57.0</td>\n",
       "      <td>78.5</td>\n",
       "    </tr>\n",
       "    <tr>\n",
       "      <th>356</th>\n",
       "      <td>82000</td>\n",
       "      <td>90.00</td>\n",
       "      <td>50.0</td>\n",
       "      <td>78.5</td>\n",
       "      <td>78.5</td>\n",
       "      <td>50.0</td>\n",
       "      <td>85.5</td>\n",
       "    </tr>\n",
       "  </tbody>\n",
       "</table>\n",
       "<p>329 rows × 7 columns</p>\n",
       "</div>"
      ],
      "text/plain": [
       "      Price   Rate   Size  Brightness  Color  Thickness  Tacktile\n",
       "0    139000  92.28   75.5        46.0   59.5       81.0      47.5\n",
       "1     45000  92.22   59.0        50.5   61.5       52.5      64.0\n",
       "2     84900  96.06   56.0        53.5   60.5       51.5      77.5\n",
       "3     45000  92.22   59.0        50.5   61.5       52.5      64.0\n",
       "4     62000  91.68   64.5        51.0   71.0       70.5      72.5\n",
       "..      ...    ...    ...         ...    ...        ...       ...\n",
       "351   87000  93.00  100.0        50.0   50.0      100.0      50.0\n",
       "352   98000  94.00   75.0        75.0   75.0      100.0      87.5\n",
       "353   79000  94.00   75.0        50.0   75.0       50.0      50.0\n",
       "355   44000  86.00   57.0        35.5   71.5       57.0      78.5\n",
       "356   82000  90.00   50.0        78.5   78.5       50.0      85.5\n",
       "\n",
       "[329 rows x 7 columns]"
      ]
     },
     "execution_count": 5,
     "metadata": {},
     "output_type": "execute_result"
    }
   ],
   "source": [
    "corr_df = df[['Price', 'Rate', 'Size', 'Brightness', 'Color', 'Thickness', 'Tacktile']]\n",
    "corr_df"
   ]
  },
  {
   "cell_type": "code",
   "execution_count": 23,
   "metadata": {},
   "outputs": [
    {
     "name": "stderr",
     "output_type": "stream",
     "text": [
      "<ipython-input-23-4b380bf61f5a>:4: SettingWithCopyWarning: \n",
      "A value is trying to be set on a copy of a slice from a DataFrame.\n",
      "Try using .loc[row_indexer,col_indexer] = value instead\n",
      "\n",
      "See the caveats in the documentation: https://pandas.pydata.org/pandas-docs/stable/user_guide/indexing.html#returning-a-view-versus-a-copy\n",
      "  corr_df['number'] = index\n"
     ]
    }
   ],
   "source": [
    "index = []\n",
    "for i in range(len(corr_df)):\n",
    "    index.append(i)\n",
    "corr_df['number'] = index"
   ]
  },
  {
   "cell_type": "code",
   "execution_count": 24,
   "metadata": {},
   "outputs": [
    {
     "data": {
      "text/html": [
       "<div>\n",
       "<style scoped>\n",
       "    .dataframe tbody tr th:only-of-type {\n",
       "        vertical-align: middle;\n",
       "    }\n",
       "\n",
       "    .dataframe tbody tr th {\n",
       "        vertical-align: top;\n",
       "    }\n",
       "\n",
       "    .dataframe thead th {\n",
       "        text-align: right;\n",
       "    }\n",
       "</style>\n",
       "<table border=\"1\" class=\"dataframe\">\n",
       "  <thead>\n",
       "    <tr style=\"text-align: right;\">\n",
       "      <th></th>\n",
       "      <th>Price</th>\n",
       "      <th>Rate</th>\n",
       "      <th>Size</th>\n",
       "      <th>Brightness</th>\n",
       "      <th>Color</th>\n",
       "      <th>Thickness</th>\n",
       "      <th>Tacktile</th>\n",
       "      <th>number</th>\n",
       "    </tr>\n",
       "  </thead>\n",
       "  <tbody>\n",
       "    <tr>\n",
       "      <th>0</th>\n",
       "      <td>139000</td>\n",
       "      <td>92.28</td>\n",
       "      <td>75.5</td>\n",
       "      <td>46.0</td>\n",
       "      <td>59.5</td>\n",
       "      <td>81.0</td>\n",
       "      <td>47.5</td>\n",
       "      <td>0</td>\n",
       "    </tr>\n",
       "    <tr>\n",
       "      <th>1</th>\n",
       "      <td>45000</td>\n",
       "      <td>92.22</td>\n",
       "      <td>59.0</td>\n",
       "      <td>50.5</td>\n",
       "      <td>61.5</td>\n",
       "      <td>52.5</td>\n",
       "      <td>64.0</td>\n",
       "      <td>1</td>\n",
       "    </tr>\n",
       "    <tr>\n",
       "      <th>2</th>\n",
       "      <td>84900</td>\n",
       "      <td>96.06</td>\n",
       "      <td>56.0</td>\n",
       "      <td>53.5</td>\n",
       "      <td>60.5</td>\n",
       "      <td>51.5</td>\n",
       "      <td>77.5</td>\n",
       "      <td>2</td>\n",
       "    </tr>\n",
       "    <tr>\n",
       "      <th>3</th>\n",
       "      <td>45000</td>\n",
       "      <td>92.22</td>\n",
       "      <td>59.0</td>\n",
       "      <td>50.5</td>\n",
       "      <td>61.5</td>\n",
       "      <td>52.5</td>\n",
       "      <td>64.0</td>\n",
       "      <td>3</td>\n",
       "    </tr>\n",
       "    <tr>\n",
       "      <th>4</th>\n",
       "      <td>62000</td>\n",
       "      <td>91.68</td>\n",
       "      <td>64.5</td>\n",
       "      <td>51.0</td>\n",
       "      <td>71.0</td>\n",
       "      <td>70.5</td>\n",
       "      <td>72.5</td>\n",
       "      <td>4</td>\n",
       "    </tr>\n",
       "  </tbody>\n",
       "</table>\n",
       "</div>"
      ],
      "text/plain": [
       "    Price   Rate  Size  Brightness  Color  Thickness  Tacktile  number\n",
       "0  139000  92.28  75.5        46.0   59.5       81.0      47.5       0\n",
       "1   45000  92.22  59.0        50.5   61.5       52.5      64.0       1\n",
       "2   84900  96.06  56.0        53.5   60.5       51.5      77.5       2\n",
       "3   45000  92.22  59.0        50.5   61.5       52.5      64.0       3\n",
       "4   62000  91.68  64.5        51.0   71.0       70.5      72.5       4"
      ]
     },
     "execution_count": 24,
     "metadata": {},
     "output_type": "execute_result"
    }
   ],
   "source": [
    "corr_df.head()"
   ]
  },
  {
   "cell_type": "code",
   "execution_count": 6,
   "metadata": {},
   "outputs": [],
   "source": [
    "import matplotlib.pyplot as plt\n",
    "import seaborn as sns\n",
    "sns.set()"
   ]
  },
  {
   "cell_type": "code",
   "execution_count": 7,
   "metadata": {},
   "outputs": [
    {
     "data": {
      "image/png": "[encoded data removed]",
      "text/plain": [
       "<Figure size 926.975x216 with 1 Axes>"
      ]
     },
     "metadata": {},
     "output_type": "display_data"
    }
   ],
   "source": [
    "facet = sns.FacetGrid(corr_df, aspect = 4)\n",
    "facet.map(sns.kdeplot, 'Rate')\n",
    "facet.add_legend()\n",
    "\n",
    "plt.show()"
   ]
  },
  {
   "cell_type": "code",
   "execution_count": 8,
   "metadata": {},
   "outputs": [
    {
     "data": {
      "image/png": "[encoded data removed]",
      "text/plain": [
       "<Figure size 720x720 with 2 Axes>"
      ]
     },
     "metadata": {},
     "output_type": "display_data"
    }
   ],
   "source": [
    "plt.figure(figsize=(10, 10))\n",
    "sns.heatmap(corr_df.corr(), linewidths=0.01, square=True,\n",
    "            annot=True, cmap=plt.cm.viridis, linecolor=\"white\")\n",
    "plt.title('Correlation between features')\n",
    "plt.show()"
   ]
  },
  {
   "cell_type": "code",
   "execution_count": 9,
   "metadata": {},
   "outputs": [
    {
     "data": {
      "text/plain": [
       "count    329.000000\n",
       "mean      92.981824\n",
       "std        2.881208\n",
       "min       76.240000\n",
       "25%       91.860000\n",
       "50%       93.080000\n",
       "75%       94.600000\n",
       "max      100.000000\n",
       "Name: Rate, dtype: float64"
      ]
     },
     "execution_count": 9,
     "metadata": {},
     "output_type": "execute_result"
    }
   ],
   "source": [
    "corr_df['Rate'].describe()"
   ]
  },
  {
   "cell_type": "code",
   "execution_count": 25,
   "metadata": {},
   "outputs": [
    {
     "data": {
      "text/html": [
       "<div>\n",
       "<style scoped>\n",
       "    .dataframe tbody tr th:only-of-type {\n",
       "        vertical-align: middle;\n",
       "    }\n",
       "\n",
       "    .dataframe tbody tr th {\n",
       "        vertical-align: top;\n",
       "    }\n",
       "\n",
       "    .dataframe thead th {\n",
       "        text-align: right;\n",
       "    }\n",
       "</style>\n",
       "<table border=\"1\" class=\"dataframe\">\n",
       "  <thead>\n",
       "    <tr style=\"text-align: right;\">\n",
       "      <th></th>\n",
       "      <th>Price</th>\n",
       "      <th>Rate</th>\n",
       "      <th>Size</th>\n",
       "      <th>Brightness</th>\n",
       "      <th>Color</th>\n",
       "      <th>Thickness</th>\n",
       "      <th>Tacktile</th>\n",
       "      <th>number</th>\n",
       "    </tr>\n",
       "  </thead>\n",
       "  <tbody>\n",
       "    <tr>\n",
       "      <th>0</th>\n",
       "      <td>139000</td>\n",
       "      <td>92.28</td>\n",
       "      <td>75.5</td>\n",
       "      <td>46.0</td>\n",
       "      <td>59.5</td>\n",
       "      <td>81.0</td>\n",
       "      <td>47.5</td>\n",
       "      <td>0</td>\n",
       "    </tr>\n",
       "    <tr>\n",
       "      <th>1</th>\n",
       "      <td>45000</td>\n",
       "      <td>92.22</td>\n",
       "      <td>59.0</td>\n",
       "      <td>50.5</td>\n",
       "      <td>61.5</td>\n",
       "      <td>52.5</td>\n",
       "      <td>64.0</td>\n",
       "      <td>1</td>\n",
       "    </tr>\n",
       "    <tr>\n",
       "      <th>2</th>\n",
       "      <td>84900</td>\n",
       "      <td>96.06</td>\n",
       "      <td>56.0</td>\n",
       "      <td>53.5</td>\n",
       "      <td>60.5</td>\n",
       "      <td>51.5</td>\n",
       "      <td>77.5</td>\n",
       "      <td>2</td>\n",
       "    </tr>\n",
       "    <tr>\n",
       "      <th>3</th>\n",
       "      <td>45000</td>\n",
       "      <td>92.22</td>\n",
       "      <td>59.0</td>\n",
       "      <td>50.5</td>\n",
       "      <td>61.5</td>\n",
       "      <td>52.5</td>\n",
       "      <td>64.0</td>\n",
       "      <td>3</td>\n",
       "    </tr>\n",
       "    <tr>\n",
       "      <th>4</th>\n",
       "      <td>62000</td>\n",
       "      <td>91.68</td>\n",
       "      <td>64.5</td>\n",
       "      <td>51.0</td>\n",
       "      <td>71.0</td>\n",
       "      <td>70.5</td>\n",
       "      <td>72.5</td>\n",
       "      <td>4</td>\n",
       "    </tr>\n",
       "  </tbody>\n",
       "</table>\n",
       "</div>"
      ],
      "text/plain": [
       "    Price   Rate  Size  Brightness  Color  Thickness  Tacktile  number\n",
       "0  139000  92.28  75.5        46.0   59.5       81.0      47.5       0\n",
       "1   45000  92.22  59.0        50.5   61.5       52.5      64.0       1\n",
       "2   84900  96.06  56.0        53.5   60.5       51.5      77.5       2\n",
       "3   45000  92.22  59.0        50.5   61.5       52.5      64.0       3\n",
       "4   62000  91.68  64.5        51.0   71.0       70.5      72.5       4"
      ]
     },
     "execution_count": 25,
     "metadata": {},
     "output_type": "execute_result"
    }
   ],
   "source": [
    "corr_df.head()"
   ]
  },
  {
   "cell_type": "markdown",
   "metadata": {},
   "source": [
    "### Dataset"
   ]
  },
  {
   "cell_type": "code",
   "execution_count": 33,
   "metadata": {},
   "outputs": [
    {
     "name": "stdout",
     "output_type": "stream",
     "text": [
      "(329, 7) (329,)\n"
     ]
    }
   ],
   "source": [
    "train_data = corr_df.drop(['number'], axis=1)\n",
    "target_data = corr_df['number']\n",
    "print(train_data.shape, target_data.shape)"
   ]
  },
  {
   "cell_type": "code",
   "execution_count": 34,
   "metadata": {},
   "outputs": [
    {
     "name": "stdout",
     "output_type": "stream",
     "text": [
      "(329, 7) (263, 7) (66, 7)\n"
     ]
    }
   ],
   "source": [
    "from sklearn.model_selection import train_test_split\n",
    "x_train, x_test, y_train, y_test = train_test_split(train_data, target_data, test_size = 0.2)\n",
    "\n",
    "print(train_data.shape, x_train.shape, x_test.shape)"
   ]
  },
  {
   "cell_type": "code",
   "execution_count": 36,
   "metadata": {},
   "outputs": [],
   "source": [
    "from sklearn.ensemble import RandomForestRegressor\n",
    "forest = RandomForestRegressor(n_estimators=100)"
   ]
  },
  {
   "cell_type": "code",
   "execution_count": 37,
   "metadata": {},
   "outputs": [
    {
     "name": "stdout",
     "output_type": "stream",
     "text": [
      "training set accuracy:  0.77140631485101\n"
     ]
    }
   ],
   "source": [
    "forest.fit(x_train, y_train)\n",
    "print(\"training set accuracy: \",forest.score(x_train, y_train))"
   ]
  },
  {
   "cell_type": "code",
   "execution_count": 40,
   "metadata": {},
   "outputs": [
    {
     "name": "stdout",
     "output_type": "stream",
     "text": [
      "test set accuracy: 0.35972670207249335\n"
     ]
    }
   ],
   "source": [
    "y_predict = forest.predict(x_test)\n",
    "print('test set accuracy:', forest.score(x_test, y_test))"
   ]
  },
  {
   "cell_type": "code",
   "execution_count": null,
   "metadata": {},
   "outputs": [],
   "source": []
  }
 ],
 "metadata": {
  "kernelspec": {
   "display_name": "Python 3",
   "language": "python",
   "name": "python3"
  },
  "language_info": {
   "codemirror_mode": {
    "name": "ipython",
    "version": 3
   },
   "file_extension": ".py",
   "mimetype": "text/x-python",
   "name": "python",
   "nbconvert_exporter": "python",
   "pygments_lexer": "ipython3",
   "version": "3.8.1"
  }
 },
 "nbformat": 4,
 "nbformat_minor": 4
}
